{
 "cells": [
  {
   "cell_type": "markdown",
   "metadata": {},
   "source": [
    "https://wikidocs.net/21693\n",
    "https://somjang.tistory.com/entry/Kaggle-DAY10Real-or-Not-NLP-with-Disaster-Tweets?category=375581"
   ]
  },
  {
   "cell_type": "code",
   "execution_count": 20,
   "metadata": {},
   "outputs": [
    {
     "name": "stderr",
     "output_type": "stream",
     "text": [
      "[nltk_data] Downloading package stopwords to\n",
      "[nltk_data]     C:\\Users\\acsl\\AppData\\Roaming\\nltk_data...\n",
      "[nltk_data]   Package stopwords is already up-to-date!\n",
      "[nltk_data] Downloading package punkt to\n",
      "[nltk_data]     C:\\Users\\acsl\\AppData\\Roaming\\nltk_data...\n",
      "[nltk_data]   Package punkt is already up-to-date!\n"
     ]
    }
   ],
   "source": [
    "import tensorflow as tf\n",
    "import pandas as pd\n",
    "import numpy as np\n",
    "import matplotlib.pyplot as plt\n",
    "import seaborn as sns\n",
    "import string\n",
    "from tqdm import tqdm\n",
    "import re\n",
    "import nltk\n",
    "from nltk.tokenize import word_tokenize\n",
    "from nltk.corpus import stopwords\n",
    "from sklearn.model_selection import train_test_split\n",
    "from tensorflow.keras.preprocessing.text import Tokenizer\n",
    "from tensorflow.keras.preprocessing.sequence import pad_sequences\n",
    "nltk.download(\"stopwords\")\n",
    "nltk.download(\"punkt\")\n",
    "\n",
    "\n",
    "with tf.device(\"/gpu:0\"):\n",
    "    np.random.seed(3)\n",
    "    tf.random.set_seed(3)"
   ]
  },
  {
   "cell_type": "code",
   "execution_count": 21,
   "metadata": {},
   "outputs": [
    {
     "name": "stdout",
     "output_type": "stream",
     "text": [
      "<class 'pandas.core.frame.DataFrame'>\n",
      "RangeIndex: 7613 entries, 0 to 7612\n",
      "Data columns (total 5 columns):\n",
      " #   Column    Non-Null Count  Dtype \n",
      "---  ------    --------------  ----- \n",
      " 0   id        7613 non-null   int64 \n",
      " 1   keyword   7552 non-null   object\n",
      " 2   location  5080 non-null   object\n",
      " 3   text      7613 non-null   object\n",
      " 4   target    7613 non-null   int64 \n",
      "dtypes: int64(2), object(3)\n",
      "memory usage: 297.5+ KB\n",
      "<class 'pandas.core.frame.DataFrame'>\n",
      "RangeIndex: 3263 entries, 0 to 3262\n",
      "Data columns (total 4 columns):\n",
      " #   Column    Non-Null Count  Dtype \n",
      "---  ------    --------------  ----- \n",
      " 0   id        3263 non-null   int64 \n",
      " 1   keyword   3237 non-null   object\n",
      " 2   location  2158 non-null   object\n",
      " 3   text      3263 non-null   object\n",
      "dtypes: int64(1), object(3)\n",
      "memory usage: 102.1+ KB\n"
     ]
    }
   ],
   "source": [
    "train = pd.read_csv(\"data/train.csv\")\n",
    "test = pd.read_csv(\"data/test.csv\")\n",
    "\n",
    "\n",
    "train.info()\n",
    "test.info()"
   ]
  },
  {
   "cell_type": "code",
   "execution_count": 22,
   "metadata": {},
   "outputs": [
    {
     "data": {
      "text/html": [
       "<div>\n",
       "<style scoped>\n",
       "    .dataframe tbody tr th:only-of-type {\n",
       "        vertical-align: middle;\n",
       "    }\n",
       "\n",
       "    .dataframe tbody tr th {\n",
       "        vertical-align: top;\n",
       "    }\n",
       "\n",
       "    .dataframe thead th {\n",
       "        text-align: right;\n",
       "    }\n",
       "</style>\n",
       "<table border=\"1\" class=\"dataframe\">\n",
       "  <thead>\n",
       "    <tr style=\"text-align: right;\">\n",
       "      <th></th>\n",
       "      <th>id</th>\n",
       "      <th>keyword</th>\n",
       "      <th>location</th>\n",
       "      <th>text</th>\n",
       "      <th>target</th>\n",
       "    </tr>\n",
       "  </thead>\n",
       "  <tbody>\n",
       "    <tr>\n",
       "      <th>0</th>\n",
       "      <td>1</td>\n",
       "      <td>NaN</td>\n",
       "      <td>NaN</td>\n",
       "      <td>Our Deeds are the Reason of this #earthquake M...</td>\n",
       "      <td>1</td>\n",
       "    </tr>\n",
       "    <tr>\n",
       "      <th>1</th>\n",
       "      <td>4</td>\n",
       "      <td>NaN</td>\n",
       "      <td>NaN</td>\n",
       "      <td>Forest fire near La Ronge Sask. Canada</td>\n",
       "      <td>1</td>\n",
       "    </tr>\n",
       "    <tr>\n",
       "      <th>2</th>\n",
       "      <td>5</td>\n",
       "      <td>NaN</td>\n",
       "      <td>NaN</td>\n",
       "      <td>All residents asked to 'shelter in place' are ...</td>\n",
       "      <td>1</td>\n",
       "    </tr>\n",
       "    <tr>\n",
       "      <th>3</th>\n",
       "      <td>6</td>\n",
       "      <td>NaN</td>\n",
       "      <td>NaN</td>\n",
       "      <td>13,000 people receive #wildfires evacuation or...</td>\n",
       "      <td>1</td>\n",
       "    </tr>\n",
       "    <tr>\n",
       "      <th>4</th>\n",
       "      <td>7</td>\n",
       "      <td>NaN</td>\n",
       "      <td>NaN</td>\n",
       "      <td>Just got sent this photo from Ruby #Alaska as ...</td>\n",
       "      <td>1</td>\n",
       "    </tr>\n",
       "  </tbody>\n",
       "</table>\n",
       "</div>"
      ],
      "text/plain": [
       "   id keyword location                                               text  \\\n",
       "0   1     NaN      NaN  Our Deeds are the Reason of this #earthquake M...   \n",
       "1   4     NaN      NaN             Forest fire near La Ronge Sask. Canada   \n",
       "2   5     NaN      NaN  All residents asked to 'shelter in place' are ...   \n",
       "3   6     NaN      NaN  13,000 people receive #wildfires evacuation or...   \n",
       "4   7     NaN      NaN  Just got sent this photo from Ruby #Alaska as ...   \n",
       "\n",
       "   target  \n",
       "0       1  \n",
       "1       1  \n",
       "2       1  \n",
       "3       1  \n",
       "4       1  "
      ]
     },
     "execution_count": 22,
     "metadata": {},
     "output_type": "execute_result"
    }
   ],
   "source": [
    "train.head(5)"
   ]
  },
  {
   "cell_type": "code",
   "execution_count": 23,
   "metadata": {},
   "outputs": [],
   "source": [
    "train_x = train.drop(\"target\", axis=1, inplace=False)\n",
    "train_y = train[\"target\"]"
   ]
  },
  {
   "cell_type": "code",
   "execution_count": 24,
   "metadata": {},
   "outputs": [
    {
     "data": {
      "text/html": [
       "<div>\n",
       "<style scoped>\n",
       "    .dataframe tbody tr th:only-of-type {\n",
       "        vertical-align: middle;\n",
       "    }\n",
       "\n",
       "    .dataframe tbody tr th {\n",
       "        vertical-align: top;\n",
       "    }\n",
       "\n",
       "    .dataframe thead th {\n",
       "        text-align: right;\n",
       "    }\n",
       "</style>\n",
       "<table border=\"1\" class=\"dataframe\">\n",
       "  <thead>\n",
       "    <tr style=\"text-align: right;\">\n",
       "      <th></th>\n",
       "      <th>id</th>\n",
       "      <th>keyword</th>\n",
       "      <th>location</th>\n",
       "      <th>text</th>\n",
       "    </tr>\n",
       "  </thead>\n",
       "  <tbody>\n",
       "    <tr>\n",
       "      <th>0</th>\n",
       "      <td>1</td>\n",
       "      <td>NaN</td>\n",
       "      <td>NaN</td>\n",
       "      <td>Our Deeds are the Reason of this #earthquake M...</td>\n",
       "    </tr>\n",
       "    <tr>\n",
       "      <th>1</th>\n",
       "      <td>4</td>\n",
       "      <td>NaN</td>\n",
       "      <td>NaN</td>\n",
       "      <td>Forest fire near La Ronge Sask. Canada</td>\n",
       "    </tr>\n",
       "    <tr>\n",
       "      <th>2</th>\n",
       "      <td>5</td>\n",
       "      <td>NaN</td>\n",
       "      <td>NaN</td>\n",
       "      <td>All residents asked to 'shelter in place' are ...</td>\n",
       "    </tr>\n",
       "  </tbody>\n",
       "</table>\n",
       "</div>"
      ],
      "text/plain": [
       "   id keyword location                                               text\n",
       "0   1     NaN      NaN  Our Deeds are the Reason of this #earthquake M...\n",
       "1   4     NaN      NaN             Forest fire near La Ronge Sask. Canada\n",
       "2   5     NaN      NaN  All residents asked to 'shelter in place' are ..."
      ]
     },
     "execution_count": 24,
     "metadata": {},
     "output_type": "execute_result"
    }
   ],
   "source": [
    "train_x.head(3)\n"
   ]
  },
  {
   "cell_type": "code",
   "execution_count": 25,
   "metadata": {},
   "outputs": [
    {
     "name": "stderr",
     "output_type": "stream",
     "text": [
      "C:\\Users\\acsl\\AppData\\Local\\Programs\\Python\\Python39\\lib\\site-packages\\seaborn\\_decorators.py:36: FutureWarning: Pass the following variables as keyword args: x, y. From version 0.12, the only valid positional argument will be `data`, and passing other arguments without an explicit keyword will result in an error or misinterpretation.\n",
      "  warnings.warn(\n"
     ]
    },
    {
     "data": {
      "text/plain": [
       "Text(0, 0.5, 'samples')"
      ]
     },
     "execution_count": 25,
     "metadata": {},
     "output_type": "execute_result"
    },
    {
     "data": {
      "image/png": "[encoded data removed]",
      "text/plain": [
       "<Figure size 432x288 with 1 Axes>"
      ]
     },
     "metadata": {
      "needs_background": "light"
     },
     "output_type": "display_data"
    }
   ],
   "source": [
    "x = train_y.value_counts()\n",
    "sns.barplot(x.index, x)\n",
    "plt.gca().set_ylabel(\"samples\")"
   ]
  },
  {
   "cell_type": "code",
   "execution_count": 26,
   "metadata": {},
   "outputs": [
    {
     "data": {
      "image/png": "[encoded data removed]",
      "text/plain": [
       "<Figure size 720x360 with 2 Axes>"
      ]
     },
     "metadata": {
      "needs_background": "light"
     },
     "output_type": "display_data"
    }
   ],
   "source": [
    "fig, (ax1, ax2) = plt.subplots(1, 2, figsize=(10, 5))\n",
    "text_len = train[train['target'] == 1]['text'].str.len()\n",
    "ax1.hist(text_len, color='red')\n",
    "ax1.set_title('disaster tweets')\n",
    "\n",
    "text_len = train[train['target'] == 0]['text'].str.len()\n",
    "ax2.hist(text_len, color='blue')\n",
    "ax2.set_title('undisaster tweets')\n",
    "\n",
    "plt.show()"
   ]
  },
  {
   "cell_type": "markdown",
   "metadata": {},
   "source": [
    "text length"
   ]
  },
  {
   "cell_type": "code",
   "execution_count": 27,
   "metadata": {},
   "outputs": [
    {
     "data": {
      "text/plain": [
       "Text(0.5, 1.0, 'undisaster tweets')"
      ]
     },
     "execution_count": 27,
     "metadata": {},
     "output_type": "execute_result"
    },
    {
     "data": {
      "image/png": "[encoded data removed]",
      "text/plain": [
       "<Figure size 720x360 with 2 Axes>"
      ]
     },
     "metadata": {
      "needs_background": "light"
     },
     "output_type": "display_data"
    }
   ],
   "source": [
    "fig, (ax1, ax2) = plt.subplots(1, 2, figsize=(10, 5))\n",
    "text_len = train[train['target'] == 1]['text'].str.split().map(lambda x: len(x))\n",
    "ax1.hist(text_len, color='red')\n",
    "ax1.set_title('disaster tweets')\n",
    "\n",
    "text_len = train[train['target'] == 0]['text'].str.split().map(lambda x: len(x))\n",
    "ax2.hist(text_len, color='blue')\n",
    "ax2.set_title('undisaster tweets')"
   ]
  },
  {
   "cell_type": "markdown",
   "metadata": {},
   "source": [
    "num of word"
   ]
  },
  {
   "cell_type": "code",
   "execution_count": 28,
   "metadata": {},
   "outputs": [
    {
     "name": "stderr",
     "output_type": "stream",
     "text": [
      "100%|██████████| 7613/7613 [00:00<00:00, 507094.54it/s]\n"
     ]
    },
    {
     "data": {
      "text/html": [
       "<div>\n",
       "<style scoped>\n",
       "    .dataframe tbody tr th:only-of-type {\n",
       "        vertical-align: middle;\n",
       "    }\n",
       "\n",
       "    .dataframe tbody tr th {\n",
       "        vertical-align: top;\n",
       "    }\n",
       "\n",
       "    .dataframe thead th {\n",
       "        text-align: right;\n",
       "    }\n",
       "</style>\n",
       "<table border=\"1\" class=\"dataframe\">\n",
       "  <thead>\n",
       "    <tr style=\"text-align: right;\">\n",
       "      <th></th>\n",
       "      <th>id</th>\n",
       "      <th>keyword</th>\n",
       "      <th>location</th>\n",
       "      <th>text</th>\n",
       "      <th>clear_text</th>\n",
       "    </tr>\n",
       "  </thead>\n",
       "  <tbody>\n",
       "    <tr>\n",
       "      <th>0</th>\n",
       "      <td>1</td>\n",
       "      <td>NaN</td>\n",
       "      <td>NaN</td>\n",
       "      <td>Our Deeds are the Reason of this #earthquake M...</td>\n",
       "      <td>our deeds are the reason of this earthquake ma...</td>\n",
       "    </tr>\n",
       "    <tr>\n",
       "      <th>1</th>\n",
       "      <td>4</td>\n",
       "      <td>NaN</td>\n",
       "      <td>NaN</td>\n",
       "      <td>Forest fire near La Ronge Sask. Canada</td>\n",
       "      <td>forest fire near la ronge sask canada</td>\n",
       "    </tr>\n",
       "  </tbody>\n",
       "</table>\n",
       "</div>"
      ],
      "text/plain": [
       "   id keyword location                                               text  \\\n",
       "0   1     NaN      NaN  Our Deeds are the Reason of this #earthquake M...   \n",
       "1   4     NaN      NaN             Forest fire near La Ronge Sask. Canada   \n",
       "\n",
       "                                          clear_text  \n",
       "0  our deeds are the reason of this earthquake ma...  \n",
       "1              forest fire near la ronge sask canada  "
      ]
     },
     "execution_count": 28,
     "metadata": {},
     "output_type": "execute_result"
    }
   ],
   "source": [
    "text_list=list(train_x['text'])\n",
    "pattern = '(http|ftp|https)://(?:[-\\w.]|(?:%[\\da-fA-F]{2}))+/(?:[-\\w.]|(?:%[\\da-fA-F]{2}))+'\n",
    "\n",
    "clear_text_list = []\n",
    "\n",
    "for i in tqdm(range(len(text_list))):\n",
    "    clear_text = re.sub('[-=+,#/\\?:^$.@*\\\"※~&%ㆍ!』\\\\‘|\\(\\)\\[\\]\\<\\>`\\'…》]', '', text_list[i])\n",
    "    clear_text_list.append(clear_text.lower())\n",
    "    \n",
    "train_x['clear_text'] = clear_text_list\n",
    "train_x.head(2)\n"
   ]
  },
  {
   "cell_type": "code",
   "execution_count": 29,
   "metadata": {},
   "outputs": [
    {
     "data": {
      "text/html": [
       "<div>\n",
       "<style scoped>\n",
       "    .dataframe tbody tr th:only-of-type {\n",
       "        vertical-align: middle;\n",
       "    }\n",
       "\n",
       "    .dataframe tbody tr th {\n",
       "        vertical-align: top;\n",
       "    }\n",
       "\n",
       "    .dataframe thead th {\n",
       "        text-align: right;\n",
       "    }\n",
       "</style>\n",
       "<table border=\"1\" class=\"dataframe\">\n",
       "  <thead>\n",
       "    <tr style=\"text-align: right;\">\n",
       "      <th></th>\n",
       "      <th>id</th>\n",
       "      <th>keyword</th>\n",
       "      <th>location</th>\n",
       "      <th>text</th>\n",
       "      <th>clear_text</th>\n",
       "    </tr>\n",
       "  </thead>\n",
       "  <tbody>\n",
       "    <tr>\n",
       "      <th>0</th>\n",
       "      <td>1</td>\n",
       "      <td>NaN</td>\n",
       "      <td>NaN</td>\n",
       "      <td>Our Deeds are the Reason of this #earthquake M...</td>\n",
       "      <td>our deeds are the reason of this earthquake ma...</td>\n",
       "    </tr>\n",
       "    <tr>\n",
       "      <th>1</th>\n",
       "      <td>4</td>\n",
       "      <td>NaN</td>\n",
       "      <td>NaN</td>\n",
       "      <td>Forest fire near La Ronge Sask. Canada</td>\n",
       "      <td>forest fire near la ronge sask canada</td>\n",
       "    </tr>\n",
       "    <tr>\n",
       "      <th>2</th>\n",
       "      <td>5</td>\n",
       "      <td>NaN</td>\n",
       "      <td>NaN</td>\n",
       "      <td>All residents asked to 'shelter in place' are ...</td>\n",
       "      <td>all residents asked to shelter in place are be...</td>\n",
       "    </tr>\n",
       "    <tr>\n",
       "      <th>3</th>\n",
       "      <td>6</td>\n",
       "      <td>NaN</td>\n",
       "      <td>NaN</td>\n",
       "      <td>13,000 people receive #wildfires evacuation or...</td>\n",
       "      <td>13000 people receive wildfires evacuation orde...</td>\n",
       "    </tr>\n",
       "    <tr>\n",
       "      <th>4</th>\n",
       "      <td>7</td>\n",
       "      <td>NaN</td>\n",
       "      <td>NaN</td>\n",
       "      <td>Just got sent this photo from Ruby #Alaska as ...</td>\n",
       "      <td>just got sent this photo from ruby alaska as s...</td>\n",
       "    </tr>\n",
       "    <tr>\n",
       "      <th>5</th>\n",
       "      <td>8</td>\n",
       "      <td>NaN</td>\n",
       "      <td>NaN</td>\n",
       "      <td>#RockyFire Update =&gt; California Hwy. 20 closed...</td>\n",
       "      <td>rockyfire update  california hwy 20 closed in ...</td>\n",
       "    </tr>\n",
       "    <tr>\n",
       "      <th>6</th>\n",
       "      <td>10</td>\n",
       "      <td>NaN</td>\n",
       "      <td>NaN</td>\n",
       "      <td>#flood #disaster Heavy rain causes flash flood...</td>\n",
       "      <td>flood disaster heavy rain causes flash floodin...</td>\n",
       "    </tr>\n",
       "    <tr>\n",
       "      <th>7</th>\n",
       "      <td>13</td>\n",
       "      <td>NaN</td>\n",
       "      <td>NaN</td>\n",
       "      <td>I'm on top of the hill and I can see a fire in...</td>\n",
       "      <td>im on top of the hill and i can see a fire in ...</td>\n",
       "    </tr>\n",
       "    <tr>\n",
       "      <th>8</th>\n",
       "      <td>14</td>\n",
       "      <td>NaN</td>\n",
       "      <td>NaN</td>\n",
       "      <td>There's an emergency evacuation happening now ...</td>\n",
       "      <td>theres an emergency evacuation happening now i...</td>\n",
       "    </tr>\n",
       "    <tr>\n",
       "      <th>9</th>\n",
       "      <td>15</td>\n",
       "      <td>NaN</td>\n",
       "      <td>NaN</td>\n",
       "      <td>I'm afraid that the tornado is coming to our a...</td>\n",
       "      <td>im afraid that the tornado is coming to our area</td>\n",
       "    </tr>\n",
       "  </tbody>\n",
       "</table>\n",
       "</div>"
      ],
      "text/plain": [
       "   id keyword location                                               text  \\\n",
       "0   1     NaN      NaN  Our Deeds are the Reason of this #earthquake M...   \n",
       "1   4     NaN      NaN             Forest fire near La Ronge Sask. Canada   \n",
       "2   5     NaN      NaN  All residents asked to 'shelter in place' are ...   \n",
       "3   6     NaN      NaN  13,000 people receive #wildfires evacuation or...   \n",
       "4   7     NaN      NaN  Just got sent this photo from Ruby #Alaska as ...   \n",
       "5   8     NaN      NaN  #RockyFire Update => California Hwy. 20 closed...   \n",
       "6  10     NaN      NaN  #flood #disaster Heavy rain causes flash flood...   \n",
       "7  13     NaN      NaN  I'm on top of the hill and I can see a fire in...   \n",
       "8  14     NaN      NaN  There's an emergency evacuation happening now ...   \n",
       "9  15     NaN      NaN  I'm afraid that the tornado is coming to our a...   \n",
       "\n",
       "                                          clear_text  \n",
       "0  our deeds are the reason of this earthquake ma...  \n",
       "1              forest fire near la ronge sask canada  \n",
       "2  all residents asked to shelter in place are be...  \n",
       "3  13000 people receive wildfires evacuation orde...  \n",
       "4  just got sent this photo from ruby alaska as s...  \n",
       "5  rockyfire update  california hwy 20 closed in ...  \n",
       "6  flood disaster heavy rain causes flash floodin...  \n",
       "7  im on top of the hill and i can see a fire in ...  \n",
       "8  theres an emergency evacuation happening now i...  \n",
       "9   im afraid that the tornado is coming to our area  "
      ]
     },
     "execution_count": 29,
     "metadata": {},
     "output_type": "execute_result"
    }
   ],
   "source": [
    "train_x.head(10)"
   ]
  },
  {
   "cell_type": "code",
   "execution_count": 30,
   "metadata": {},
   "outputs": [
    {
     "name": "stderr",
     "output_type": "stream",
     "text": [
      "100%|██████████| 7613/7613 [00:00<00:00, 16097.41it/s]\n"
     ]
    },
    {
     "data": {
      "text/html": [
       "<div>\n",
       "<style scoped>\n",
       "    .dataframe tbody tr th:only-of-type {\n",
       "        vertical-align: middle;\n",
       "    }\n",
       "\n",
       "    .dataframe tbody tr th {\n",
       "        vertical-align: top;\n",
       "    }\n",
       "\n",
       "    .dataframe thead th {\n",
       "        text-align: right;\n",
       "    }\n",
       "</style>\n",
       "<table border=\"1\" class=\"dataframe\">\n",
       "  <thead>\n",
       "    <tr style=\"text-align: right;\">\n",
       "      <th></th>\n",
       "      <th>id</th>\n",
       "      <th>keyword</th>\n",
       "      <th>location</th>\n",
       "      <th>text</th>\n",
       "      <th>clear_text</th>\n",
       "    </tr>\n",
       "  </thead>\n",
       "  <tbody>\n",
       "    <tr>\n",
       "      <th>0</th>\n",
       "      <td>1</td>\n",
       "      <td>NaN</td>\n",
       "      <td>NaN</td>\n",
       "      <td>Our Deeds are the Reason of this #earthquake M...</td>\n",
       "      <td>deeds reason earthquake may allah forgive</td>\n",
       "    </tr>\n",
       "    <tr>\n",
       "      <th>1</th>\n",
       "      <td>4</td>\n",
       "      <td>NaN</td>\n",
       "      <td>NaN</td>\n",
       "      <td>Forest fire near La Ronge Sask. Canada</td>\n",
       "      <td>forest fire near ronge sask canada</td>\n",
       "    </tr>\n",
       "  </tbody>\n",
       "</table>\n",
       "</div>"
      ],
      "text/plain": [
       "   id keyword location                                               text  \\\n",
       "0   1     NaN      NaN  Our Deeds are the Reason of this #earthquake M...   \n",
       "1   4     NaN      NaN             Forest fire near La Ronge Sask. Canada   \n",
       "\n",
       "                                  clear_text  \n",
       "0  deeds reason earthquake may allah forgive  \n",
       "1         forest fire near ronge sask canada  "
      ]
     },
     "execution_count": 30,
     "metadata": {},
     "output_type": "execute_result"
    }
   ],
   "source": [
    "import re\n",
    "stop_words = set(stopwords.words('english'))\n",
    "\n",
    "text_list=list(train_x['clear_text'])\n",
    "\n",
    "clear_text_list = []\n",
    "\n",
    "for i in tqdm(range(len(text_list))):\n",
    "    words_tokens = word_tokenize(text_list[i])\n",
    "    words_tokens =[word for word in words_tokens if word not in stop_words]\n",
    "    words_tokens =[word for word in words_tokens if len(word) > 2]\n",
    "    clear_text_list.append(' '.join(words_tokens))\n",
    "    \n",
    "train_x['clear_text'] = clear_text_list\n",
    "train_x.head(2)\n",
    "    "
   ]
  },
  {
   "cell_type": "code",
   "execution_count": 31,
   "metadata": {},
   "outputs": [],
   "source": [
    "sentenses = train_x[\"clear_text\"]\n",
    "train_x = train_x[\"clear_text\"]\n"
   ]
  },
  {
   "cell_type": "code",
   "execution_count": 32,
   "metadata": {},
   "outputs": [],
   "source": [
    "train_x, val_x, train_y, val_y = train_test_split(train_x, train_y, test_size=0.1, random_state=True)"
   ]
  },
  {
   "cell_type": "code",
   "execution_count": 33,
   "metadata": {},
   "outputs": [],
   "source": [
    "vocab_size = 1000\n",
    "token = Tokenizer(num_words = vocab_size)\n",
    "token.fit_on_texts(sentenses)\n",
    "\n",
    "train_sequences = token.texts_to_sequences(train_x)\n",
    "val_sequences = token.texts_to_sequences(val_x)\n"
   ]
  },
  {
   "cell_type": "code",
   "execution_count": 34,
   "metadata": {},
   "outputs": [],
   "source": [
    "trunc_type = 'post'\n",
    "padding_type = 'post'\n",
    "\n",
    "max_length = 120\n",
    "train_pad = pad_sequences(train_sequences, truncating=trunc_type, padding=padding_type, maxlen=max_length)\n",
    "val_pad = pad_sequences(val_sequences, truncating=trunc_type, padding=padding_type, maxlen=max_length)\n"
   ]
  },
  {
   "cell_type": "code",
   "execution_count": 16,
   "metadata": {},
   "outputs": [],
   "source": [
    "from tensorflow.keras.layers import Dense, LSTM, Bidirectional, Dropout, Embedding\n",
    "\n",
    "with tf.device(\"/gpu:0\"):\n",
    "    np.random.seed(3)\n",
    "    tf.random.set_seed(3)\n",
    "    \n",
    "embedding_dim = 64\n",
    "model = tf.keras.Sequential([\n",
    "    Embedding(vocab_size, embedding_dim),\n",
    "    Bidirectional(LSTM(64, return_sequences=True)),\n",
    "    Bidirectional(LSTM(32)),\n",
    "    Dense(64, activation='relu'),\n",
    "    Dropout(0.5), \n",
    "    Dense(1, activation='sigmoid')\n",
    "])"
   ]
  },
  {
   "cell_type": "code",
   "execution_count": 17,
   "metadata": {},
   "outputs": [
    {
     "name": "stdout",
     "output_type": "stream",
     "text": [
      "Model: \"sequential\"\n",
      "_________________________________________________________________\n",
      " Layer (type)                Output Shape              Param #   \n",
      "=================================================================\n",
      " embedding (Embedding)       (None, None, 64)          64000     \n",
      "                                                                 \n",
      " bidirectional (Bidirectiona  (None, None, 128)        66048     \n",
      " l)                                                              \n",
      "                                                                 \n",
      " bidirectional_1 (Bidirectio  (None, 64)               41216     \n",
      " nal)                                                            \n",
      "                                                                 \n",
      " dense (Dense)               (None, 64)                4160      \n",
      "                                                                 \n",
      " dropout (Dropout)           (None, 64)                0         \n",
      "                                                                 \n",
      " dense_1 (Dense)             (None, 1)                 65        \n",
      "                                                                 \n",
      "=================================================================\n",
      "Total params: 175,489\n",
      "Trainable params: 175,489\n",
      "Non-trainable params: 0\n",
      "_________________________________________________________________\n"
     ]
    }
   ],
   "source": [
    "model.summary()\n",
    "model.compile(loss='binary_crossentropy', optimizer='adam', metrics=['accuracy'])"
   ]
  },
  {
   "cell_type": "code",
   "execution_count": 18,
   "metadata": {},
   "outputs": [
    {
     "name": "stdout",
     "output_type": "stream",
     "text": [
      "Epoch 1/50\n",
      "215/215 [==============================] - 14s 47ms/step - loss: 0.5619 - accuracy: 0.7050 - val_loss: 0.4578 - val_accuracy: 0.7861\n",
      "Epoch 2/50\n",
      "215/215 [==============================] - 9s 41ms/step - loss: 0.4243 - accuracy: 0.8111 - val_loss: 0.4626 - val_accuracy: 0.7808\n",
      "Epoch 3/50\n",
      "215/215 [==============================] - 9s 41ms/step - loss: 0.4021 - accuracy: 0.8289 - val_loss: 0.4638 - val_accuracy: 0.7966\n",
      "Epoch 4/50\n",
      "215/215 [==============================] - 9s 40ms/step - loss: 0.3856 - accuracy: 0.8408 - val_loss: 0.4881 - val_accuracy: 0.7782\n",
      "Epoch 5/50\n",
      "215/215 [==============================] - 9s 40ms/step - loss: 0.3608 - accuracy: 0.8478 - val_loss: 0.4973 - val_accuracy: 0.7861\n",
      "Epoch 6/50\n",
      "215/215 [==============================] - 9s 40ms/step - loss: 0.3394 - accuracy: 0.8629 - val_loss: 0.5175 - val_accuracy: 0.7598\n",
      "Epoch 7/50\n",
      "215/215 [==============================] - 9s 40ms/step - loss: 0.3206 - accuracy: 0.8699 - val_loss: 0.6118 - val_accuracy: 0.7402\n",
      "Epoch 8/50\n",
      "215/215 [==============================] - 9s 40ms/step - loss: 0.3083 - accuracy: 0.8759 - val_loss: 0.6123 - val_accuracy: 0.7507\n",
      "Epoch 9/50\n",
      "215/215 [==============================] - 8s 39ms/step - loss: 0.2896 - accuracy: 0.8831 - val_loss: 0.6900 - val_accuracy: 0.7493\n",
      "Epoch 10/50\n",
      "215/215 [==============================] - 9s 41ms/step - loss: 0.2683 - accuracy: 0.8892 - val_loss: 0.7862 - val_accuracy: 0.7375\n",
      "Epoch 11/50\n",
      "215/215 [==============================] - 9s 40ms/step - loss: 0.2467 - accuracy: 0.8942 - val_loss: 0.7841 - val_accuracy: 0.7533\n",
      "Epoch 12/50\n",
      "215/215 [==============================] - 9s 40ms/step - loss: 0.2305 - accuracy: 0.9015 - val_loss: 0.8809 - val_accuracy: 0.7467\n",
      "Epoch 13/50\n",
      "215/215 [==============================] - 9s 40ms/step - loss: 0.2249 - accuracy: 0.9006 - val_loss: 0.9928 - val_accuracy: 0.7297\n",
      "Epoch 14/50\n",
      "215/215 [==============================] - 9s 40ms/step - loss: 0.2143 - accuracy: 0.9057 - val_loss: 1.0149 - val_accuracy: 0.7520\n",
      "Epoch 15/50\n",
      "215/215 [==============================] - 9s 40ms/step - loss: 0.1893 - accuracy: 0.9148 - val_loss: 1.0482 - val_accuracy: 0.7375\n",
      "Epoch 16/50\n",
      "215/215 [==============================] - 9s 40ms/step - loss: 0.1764 - accuracy: 0.9180 - val_loss: 1.2759 - val_accuracy: 0.7402\n",
      "Epoch 17/50\n",
      "215/215 [==============================] - 9s 40ms/step - loss: 0.1724 - accuracy: 0.9199 - val_loss: 1.3556 - val_accuracy: 0.7375\n",
      "Epoch 18/50\n",
      "215/215 [==============================] - 9s 40ms/step - loss: 0.1605 - accuracy: 0.9238 - val_loss: 1.5560 - val_accuracy: 0.7336\n",
      "Epoch 19/50\n",
      "215/215 [==============================] - 9s 40ms/step - loss: 0.1608 - accuracy: 0.9212 - val_loss: 1.3853 - val_accuracy: 0.7336\n",
      "Epoch 20/50\n",
      "215/215 [==============================] - 9s 41ms/step - loss: 0.1562 - accuracy: 0.9242 - val_loss: 1.3722 - val_accuracy: 0.7323\n",
      "Epoch 21/50\n",
      "215/215 [==============================] - 9s 41ms/step - loss: 0.1527 - accuracy: 0.9241 - val_loss: 1.3844 - val_accuracy: 0.7467\n",
      "Epoch 22/50\n",
      "215/215 [==============================] - 9s 40ms/step - loss: 0.1395 - accuracy: 0.9304 - val_loss: 1.5862 - val_accuracy: 0.7297\n",
      "Epoch 23/50\n",
      "215/215 [==============================] - 9s 40ms/step - loss: 0.1320 - accuracy: 0.9327 - val_loss: 1.6953 - val_accuracy: 0.7388\n",
      "Epoch 24/50\n",
      "215/215 [==============================] - 9s 41ms/step - loss: 0.1351 - accuracy: 0.9330 - val_loss: 1.4662 - val_accuracy: 0.7113\n",
      "Epoch 25/50\n",
      "215/215 [==============================] - 9s 40ms/step - loss: 0.1320 - accuracy: 0.9377 - val_loss: 1.6213 - val_accuracy: 0.7388\n",
      "Epoch 26/50\n",
      "215/215 [==============================] - 9s 40ms/step - loss: 0.1174 - accuracy: 0.9393 - val_loss: 1.7874 - val_accuracy: 0.7152\n",
      "Epoch 27/50\n",
      "215/215 [==============================] - 9s 40ms/step - loss: 0.1146 - accuracy: 0.9429 - val_loss: 1.9427 - val_accuracy: 0.7270\n",
      "Epoch 28/50\n",
      "215/215 [==============================] - 9s 41ms/step - loss: 0.1118 - accuracy: 0.9441 - val_loss: 1.9444 - val_accuracy: 0.7375\n",
      "Epoch 29/50\n",
      "215/215 [==============================] - 9s 40ms/step - loss: 0.1203 - accuracy: 0.9410 - val_loss: 1.9652 - val_accuracy: 0.7402\n",
      "Epoch 30/50\n",
      "215/215 [==============================] - 9s 41ms/step - loss: 0.1105 - accuracy: 0.9445 - val_loss: 2.0703 - val_accuracy: 0.7165\n",
      "Epoch 31/50\n",
      "215/215 [==============================] - 9s 41ms/step - loss: 0.1103 - accuracy: 0.9464 - val_loss: 2.0639 - val_accuracy: 0.7021\n",
      "Epoch 32/50\n",
      "215/215 [==============================] - 9s 40ms/step - loss: 0.1132 - accuracy: 0.9458 - val_loss: 1.9188 - val_accuracy: 0.7139\n",
      "Epoch 33/50\n",
      "215/215 [==============================] - 9s 40ms/step - loss: 0.1013 - accuracy: 0.9537 - val_loss: 2.0542 - val_accuracy: 0.7270\n",
      "Epoch 34/50\n",
      "215/215 [==============================] - 9s 40ms/step - loss: 0.0963 - accuracy: 0.9529 - val_loss: 2.2561 - val_accuracy: 0.7192\n",
      "Epoch 35/50\n",
      "215/215 [==============================] - 9s 40ms/step - loss: 0.0906 - accuracy: 0.9526 - val_loss: 2.4757 - val_accuracy: 0.7139\n",
      "Epoch 36/50\n",
      "215/215 [==============================] - 9s 41ms/step - loss: 0.1033 - accuracy: 0.9524 - val_loss: 2.0638 - val_accuracy: 0.7126\n",
      "Epoch 37/50\n",
      "215/215 [==============================] - 9s 40ms/step - loss: 0.1161 - accuracy: 0.9479 - val_loss: 1.9689 - val_accuracy: 0.7139\n",
      "Epoch 38/50\n",
      "215/215 [==============================] - 9s 41ms/step - loss: 0.1015 - accuracy: 0.9523 - val_loss: 2.1450 - val_accuracy: 0.7165\n",
      "Epoch 39/50\n",
      "215/215 [==============================] - 9s 40ms/step - loss: 0.0971 - accuracy: 0.9552 - val_loss: 2.1070 - val_accuracy: 0.7139\n",
      "Epoch 40/50\n",
      "215/215 [==============================] - 9s 41ms/step - loss: 0.0900 - accuracy: 0.9574 - val_loss: 2.3506 - val_accuracy: 0.7270\n",
      "Epoch 41/50\n",
      "215/215 [==============================] - 9s 40ms/step - loss: 0.0863 - accuracy: 0.9599 - val_loss: 2.5007 - val_accuracy: 0.7270\n",
      "Epoch 42/50\n",
      "215/215 [==============================] - 9s 40ms/step - loss: 0.0873 - accuracy: 0.9591 - val_loss: 2.4228 - val_accuracy: 0.7192\n",
      "Epoch 43/50\n",
      "215/215 [==============================] - 9s 40ms/step - loss: 0.0988 - accuracy: 0.9555 - val_loss: 2.1476 - val_accuracy: 0.7310\n",
      "Epoch 44/50\n",
      "215/215 [==============================] - 9s 40ms/step - loss: 0.0946 - accuracy: 0.9564 - val_loss: 2.2270 - val_accuracy: 0.7100\n",
      "Epoch 45/50\n",
      "215/215 [==============================] - 9s 40ms/step - loss: 0.0891 - accuracy: 0.9591 - val_loss: 2.3253 - val_accuracy: 0.7231\n",
      "Epoch 46/50\n",
      "215/215 [==============================] - 9s 40ms/step - loss: 0.0831 - accuracy: 0.9602 - val_loss: 2.5600 - val_accuracy: 0.7297\n",
      "Epoch 47/50\n",
      "215/215 [==============================] - 9s 40ms/step - loss: 0.0800 - accuracy: 0.9609 - val_loss: 2.7261 - val_accuracy: 0.7257\n",
      "Epoch 48/50\n",
      "215/215 [==============================] - 9s 40ms/step - loss: 0.0813 - accuracy: 0.9620 - val_loss: 2.7882 - val_accuracy: 0.7244\n",
      "Epoch 49/50\n",
      "215/215 [==============================] - 9s 40ms/step - loss: 0.0787 - accuracy: 0.9631 - val_loss: 2.9890 - val_accuracy: 0.7231\n",
      "Epoch 50/50\n",
      "215/215 [==============================] - 9s 40ms/step - loss: 0.0843 - accuracy: 0.9604 - val_loss: 2.7433 - val_accuracy: 0.7231\n"
     ]
    }
   ],
   "source": [
    "epochs = 50\n",
    "history = model.fit(\n",
    "    train_pad,\n",
    "    train_y,\n",
    "    validation_data=(val_pad, val_y),\n",
    "    epochs=epochs,\n",
    "    verbose=1\n",
    "    )"
   ]
  },
  {
   "cell_type": "code",
   "execution_count": 19,
   "metadata": {},
   "outputs": [
    {
     "data": {
      "image/png": "[encoded data removed]",
      "text/plain": [
       "<Figure size 1296x432 with 2 Axes>"
      ]
     },
     "metadata": {
      "needs_background": "light"
     },
     "output_type": "display_data"
    }
   ],
   "source": [
    "plt.figure(figsize=(18, 6))\n",
    "\n",
    "# 에포크별 정확도\n",
    "plt.subplot(1,2,1)\n",
    "plt.plot(history.history[\"accuracy\"], label=\"accuracy\")\n",
    "plt.plot(history.history[\"val_accuracy\"], label=\"val_accuracy\")\n",
    "plt.title(\"accuracy\")\n",
    "plt.legend()\n",
    "\n",
    "# 에포크별 손실률\n",
    "plt.subplot(1,2,2)\n",
    "plt.plot(history.history[\"loss\"], label=\"loss\")\n",
    "plt.plot(history.history[\"val_loss\"], label=\"val_loss\")\n",
    "plt.title(\"loss\")\n",
    "plt.legend()\n",
    "\n",
    "plt.show()"
   ]
  }
 ],
 "metadata": {
  "interpreter": {
   "hash": "d34b65cb93c9f8645c6f8fccd8e144be519348922cb244b5fd80d804f05433b9"
  },
  "kernelspec": {
   "display_name": "Python 3.8.1 32-bit",
   "language": "python",
   "name": "python3"
  },
  "language_info": {
   "codemirror_mode": {
    "name": "ipython",
    "version": 3
   },
   "file_extension": ".py",
   "mimetype": "text/x-python",
   "name": "python",
   "nbconvert_exporter": "python",
   "pygments_lexer": "ipython3",
   "version": "3.9.9"
  },
  "orig_nbformat": 4
 },
 "nbformat": 4,
 "nbformat_minor": 2
}
