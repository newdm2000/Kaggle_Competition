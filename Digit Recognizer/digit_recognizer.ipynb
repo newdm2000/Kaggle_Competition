{
 "cells": [
  {
   "cell_type": "code",
   "execution_count": 28,
   "metadata": {},
   "outputs": [],
   "source": [
    "\n",
    "import pandas as pd\n",
    "import numpy as np\n",
    "import tensorflow as tf\n",
    "import matplotlib.pyplot as plt\n",
    "from PIL import Image\n",
    "\n",
    "from tensorflow.keras.models import Sequential\n",
    "from tensorflow.keras.layers import Dense, Conv2D, Flatten, Dropout, MaxPool2D\n",
    "from tensorflow.keras.preprocessing.image import ImageDataGenerator\n",
    "from tensorflow.keras.callbacks import ModelCheckpoint, EarlyStopping\n",
    "from tensorflow.keras.optimizers import SGD\n",
    "from sklearn.preprocessing import MinMaxScaler\n",
    "from sklearn.model_selection import train_test_split\n",
    "from sklearn.metrics import classification_report"
   ]
  },
  {
   "cell_type": "code",
   "execution_count": 29,
   "metadata": {},
   "outputs": [],
   "source": [
    "train = pd.read_csv('data/train.csv')\n",
    "test = pd.read_csv('data/test.csv')"
   ]
  },
  {
   "cell_type": "code",
   "execution_count": 30,
   "metadata": {},
   "outputs": [
    {
     "data": {
      "text/plain": [
       "'2.7.0'"
      ]
     },
     "execution_count": 30,
     "metadata": {},
     "output_type": "execute_result"
    }
   ],
   "source": [
    "tf.__version__"
   ]
  },
  {
   "cell_type": "code",
   "execution_count": 31,
   "metadata": {},
   "outputs": [],
   "source": [
    "x_train = train.drop('label', axis=1, inplace=False)\n",
    "y_train = train['label']"
   ]
  },
  {
   "cell_type": "code",
   "execution_count": 32,
   "metadata": {},
   "outputs": [],
   "source": [
    "x_train = x_train.values.reshape(-1, 28, 28, 1)\n",
    "y_train = y_train.values.reshape(-1, 1)"
   ]
  },
  {
   "cell_type": "code",
   "execution_count": 33,
   "metadata": {},
   "outputs": [
    {
     "data": {
      "text/plain": [
       "'scaler = MinMaxScaler()\\nscaler.fit(x_train)\\nx_data_norm = scaler.transform(x_train)\\ntrain_test_split(x_data_norm, y_train, test_size=0.3, random_state=0)'"
      ]
     },
     "execution_count": 33,
     "metadata": {},
     "output_type": "execute_result"
    }
   ],
   "source": [
    "'''scaler = MinMaxScaler()\n",
    "scaler.fit(x_train)\n",
    "x_data_norm = scaler.transform(x_train)\n",
    "train_test_split(x_data_norm, y_train, test_size=0.3, random_state=0)'''"
   ]
  },
  {
   "cell_type": "code",
   "execution_count": 34,
   "metadata": {},
   "outputs": [],
   "source": [
    "model = Sequential()\n",
    "model.add(Conv2D())\n",
    "model.add(Flatten(input_shape=(28, 28, 1)))\n",
    "model.add(Dense(256, activation='relu'))\n",
    "Dropout(0.2)\n",
    "model.add(Dense(128, activation='relu'))\n",
    "model.add(Dropout(0.1))\n",
    "model.add(Dense(10, activation='softmax'))"
   ]
  },
  {
   "cell_type": "code",
   "execution_count": 35,
   "metadata": {},
   "outputs": [
    {
     "data": {
      "text/plain": [
       "\"model = Sequential()\\nmodel.add(Conv2D(filters=32, kernel_size=(5, 5), padding='same', activation='relu', input_shape=(28, 28, 1)))\\nmodel.add(Conv2D(filters=32, kernel_size=(5, 5), padding='same', activation='relu', input_shape=(28, 28, 1)))\\nmodel.add(MaxPool2D(pool_size=(2, 2), strides=2))\\nmodel.add(Conv2D(filters=64, kernel_size=(3, 3), padding='same', activation='relu'))\\nmodel.add(Conv2D(filters=64, kernel_size=(3, 3), padding='same', activation='relu'))\\nmodel.add(MaxPool2D(pool_size=(2, 2), strides=2))\\nmodel.add(Dropout(rate=0.25))\\nmodel.add(Flatten())\\nmodel.add(Dense(1024, activation='relu'))\\nmodel.add(Dropout(rate=0.25))\\nmodel.add(Dense(10, activation='softmax'))\""
      ]
     },
     "execution_count": 35,
     "metadata": {},
     "output_type": "execute_result"
    }
   ],
   "source": [
    "'''model = Sequential()\n",
    "model.add(Conv2D(filters=32, kernel_size=(5, 5), padding='same', activation='relu', input_shape=(28, 28, 1)))\n",
    "model.add(Conv2D(filters=32, kernel_size=(5, 5), padding='same', activation='relu', input_shape=(28, 28, 1)))\n",
    "model.add(MaxPool2D(pool_size=(2, 2), strides=2))\n",
    "model.add(Conv2D(filters=64, kernel_size=(3, 3), padding='same', activation='relu'))\n",
    "model.add(Conv2D(filters=64, kernel_size=(3, 3), padding='same', activation='relu'))\n",
    "model.add(MaxPool2D(pool_size=(2, 2), strides=2))\n",
    "model.add(Dropout(rate=0.25))\n",
    "model.add(Flatten())\n",
    "model.add(Dense(1024, activation='relu'))\n",
    "model.add(Dropout(rate=0.25))\n",
    "model.add(Dense(10, activation='softmax'))'''"
   ]
  },
  {
   "cell_type": "code",
   "execution_count": 36,
   "metadata": {},
   "outputs": [
    {
     "name": "stdout",
     "output_type": "stream",
     "text": [
      "Model: \"sequential_2\"\n",
      "_________________________________________________________________\n",
      " Layer (type)                Output Shape              Param #   \n",
      "=================================================================\n",
      " flatten_2 (Flatten)         (None, 784)               0         \n",
      "                                                                 \n",
      " dense_6 (Dense)             (None, 256)               200960    \n",
      "                                                                 \n",
      " dense_7 (Dense)             (None, 128)               32896     \n",
      "                                                                 \n",
      " dense_8 (Dense)             (None, 10)                1290      \n",
      "                                                                 \n",
      "=================================================================\n",
      "Total params: 235,146\n",
      "Trainable params: 235,146\n",
      "Non-trainable params: 0\n",
      "_________________________________________________________________\n"
     ]
    }
   ],
   "source": [
    "model.summary()"
   ]
  },
  {
   "cell_type": "code",
   "execution_count": 37,
   "metadata": {},
   "outputs": [],
   "source": [
    "batch_size = 128\n",
    "epochs = 100"
   ]
  },
  {
   "cell_type": "code",
   "execution_count": 38,
   "metadata": {},
   "outputs": [],
   "source": [
    "model.compile(optimizer='adam',\n",
    "                   loss='sparse_categorical_crossentropy',\n",
    "                   metrics=['accuracy']\n",
    ")"
   ]
  },
  {
   "cell_type": "code",
   "execution_count": 39,
   "metadata": {},
   "outputs": [
    {
     "name": "stdout",
     "output_type": "stream",
     "text": [
      "Epoch 1/100\n",
      "263/263 [==============================] - 1s 3ms/step - loss: 3.8835 - accuracy: 0.8554 - val_loss: 1.1037 - val_accuracy: 0.9077\n",
      "Epoch 2/100\n",
      "263/263 [==============================] - 1s 2ms/step - loss: 0.6141 - accuracy: 0.9323 - val_loss: 0.6039 - val_accuracy: 0.9299\n",
      "Epoch 3/100\n",
      "263/263 [==============================] - 1s 2ms/step - loss: 0.3341 - accuracy: 0.9527 - val_loss: 0.5320 - val_accuracy: 0.9395\n",
      "Epoch 4/100\n",
      "263/263 [==============================] - 1s 2ms/step - loss: 0.2362 - accuracy: 0.9624 - val_loss: 0.5009 - val_accuracy: 0.9443\n",
      "Epoch 5/100\n",
      "263/263 [==============================] - 1s 2ms/step - loss: 0.1686 - accuracy: 0.9695 - val_loss: 0.4845 - val_accuracy: 0.9477\n",
      "Epoch 6/100\n",
      "263/263 [==============================] - 1s 2ms/step - loss: 0.1424 - accuracy: 0.9733 - val_loss: 0.4509 - val_accuracy: 0.9462\n",
      "Epoch 7/100\n",
      "263/263 [==============================] - 1s 2ms/step - loss: 0.1231 - accuracy: 0.9762 - val_loss: 0.3895 - val_accuracy: 0.9552\n",
      "Epoch 8/100\n",
      "263/263 [==============================] - 1s 2ms/step - loss: 0.0867 - accuracy: 0.9812 - val_loss: 0.4232 - val_accuracy: 0.9529\n",
      "Epoch 9/100\n",
      "263/263 [==============================] - 1s 2ms/step - loss: 0.0993 - accuracy: 0.9800 - val_loss: 0.4926 - val_accuracy: 0.9467\n",
      "Epoch 10/100\n",
      "263/263 [==============================] - 1s 2ms/step - loss: 0.1166 - accuracy: 0.9776 - val_loss: 0.3892 - val_accuracy: 0.9564\n",
      "Epoch 11/100\n",
      "263/263 [==============================] - 1s 2ms/step - loss: 0.1267 - accuracy: 0.9773 - val_loss: 0.4649 - val_accuracy: 0.9523\n",
      "Epoch 12/100\n",
      "263/263 [==============================] - 1s 2ms/step - loss: 0.0846 - accuracy: 0.9834 - val_loss: 0.3992 - val_accuracy: 0.9554\n",
      "Epoch 13/100\n",
      "263/263 [==============================] - 1s 2ms/step - loss: 0.0850 - accuracy: 0.9824 - val_loss: 0.4787 - val_accuracy: 0.9512\n",
      "Epoch 14/100\n",
      "263/263 [==============================] - 1s 2ms/step - loss: 0.0775 - accuracy: 0.9835 - val_loss: 0.3771 - val_accuracy: 0.9587\n",
      "Epoch 15/100\n",
      "263/263 [==============================] - 1s 2ms/step - loss: 0.0732 - accuracy: 0.9848 - val_loss: 0.3808 - val_accuracy: 0.9610\n",
      "Epoch 16/100\n",
      "263/263 [==============================] - 1s 2ms/step - loss: 0.0713 - accuracy: 0.9850 - val_loss: 0.3623 - val_accuracy: 0.9585\n",
      "Epoch 17/100\n",
      "263/263 [==============================] - 1s 2ms/step - loss: 0.0715 - accuracy: 0.9852 - val_loss: 0.4893 - val_accuracy: 0.9577\n",
      "Epoch 18/100\n",
      "263/263 [==============================] - 1s 2ms/step - loss: 0.0978 - accuracy: 0.9812 - val_loss: 0.4366 - val_accuracy: 0.9480\n",
      "Epoch 19/100\n",
      "263/263 [==============================] - 1s 2ms/step - loss: 0.0648 - accuracy: 0.9854 - val_loss: 0.3520 - val_accuracy: 0.9631\n",
      "Epoch 20/100\n",
      "263/263 [==============================] - 1s 2ms/step - loss: 0.0522 - accuracy: 0.9879 - val_loss: 0.3333 - val_accuracy: 0.9613\n",
      "Epoch 21/100\n",
      "263/263 [==============================] - 1s 2ms/step - loss: 0.0703 - accuracy: 0.9854 - val_loss: 0.3846 - val_accuracy: 0.9570\n",
      "Epoch 22/100\n",
      "263/263 [==============================] - 1s 2ms/step - loss: 0.0649 - accuracy: 0.9856 - val_loss: 0.3776 - val_accuracy: 0.9602\n",
      "Epoch 23/100\n",
      "263/263 [==============================] - 1s 2ms/step - loss: 0.0629 - accuracy: 0.9871 - val_loss: 0.3219 - val_accuracy: 0.9626\n",
      "Epoch 24/100\n",
      "263/263 [==============================] - 1s 2ms/step - loss: 0.0495 - accuracy: 0.9883 - val_loss: 0.4015 - val_accuracy: 0.9571\n",
      "Epoch 25/100\n",
      "263/263 [==============================] - 1s 2ms/step - loss: 0.0678 - accuracy: 0.9865 - val_loss: 0.3067 - val_accuracy: 0.9654\n",
      "Epoch 26/100\n",
      "263/263 [==============================] - 1s 2ms/step - loss: 0.0525 - accuracy: 0.9885 - val_loss: 0.3018 - val_accuracy: 0.9635\n",
      "Epoch 27/100\n",
      "263/263 [==============================] - 1s 2ms/step - loss: 0.0473 - accuracy: 0.9887 - val_loss: 0.3229 - val_accuracy: 0.9663\n",
      "Epoch 28/100\n",
      "263/263 [==============================] - 1s 2ms/step - loss: 0.0405 - accuracy: 0.9910 - val_loss: 0.3188 - val_accuracy: 0.9667\n",
      "Epoch 29/100\n",
      "263/263 [==============================] - 1s 2ms/step - loss: 0.0464 - accuracy: 0.9892 - val_loss: 0.3626 - val_accuracy: 0.9631\n",
      "Epoch 30/100\n",
      "263/263 [==============================] - 1s 2ms/step - loss: 0.0498 - accuracy: 0.9897 - val_loss: 0.3794 - val_accuracy: 0.9580\n",
      "Epoch 31/100\n",
      "263/263 [==============================] - 1s 2ms/step - loss: 0.0500 - accuracy: 0.9881 - val_loss: 0.3165 - val_accuracy: 0.9642\n",
      "Epoch 32/100\n",
      "263/263 [==============================] - 1s 2ms/step - loss: 0.0370 - accuracy: 0.9906 - val_loss: 0.2693 - val_accuracy: 0.9658\n",
      "Epoch 33/100\n",
      "263/263 [==============================] - 1s 2ms/step - loss: 0.0276 - accuracy: 0.9929 - val_loss: 0.3409 - val_accuracy: 0.9662\n",
      "Epoch 34/100\n",
      "263/263 [==============================] - 1s 2ms/step - loss: 0.0321 - accuracy: 0.9923 - val_loss: 0.3440 - val_accuracy: 0.9649\n",
      "Epoch 35/100\n",
      "263/263 [==============================] - 1s 2ms/step - loss: 0.0596 - accuracy: 0.9882 - val_loss: 0.4398 - val_accuracy: 0.9630\n",
      "Epoch 36/100\n",
      "263/263 [==============================] - 1s 2ms/step - loss: 0.0497 - accuracy: 0.9896 - val_loss: 0.3106 - val_accuracy: 0.9651\n",
      "Epoch 37/100\n",
      "263/263 [==============================] - 1s 2ms/step - loss: 0.0453 - accuracy: 0.9900 - val_loss: 0.3515 - val_accuracy: 0.9626\n",
      "Epoch 38/100\n",
      "263/263 [==============================] - 1s 2ms/step - loss: 0.0322 - accuracy: 0.9925 - val_loss: 0.3110 - val_accuracy: 0.9682\n",
      "Epoch 39/100\n",
      "263/263 [==============================] - 1s 2ms/step - loss: 0.0432 - accuracy: 0.9906 - val_loss: 0.3609 - val_accuracy: 0.9631\n",
      "Epoch 40/100\n",
      "263/263 [==============================] - 1s 2ms/step - loss: 0.0286 - accuracy: 0.9929 - val_loss: 0.3457 - val_accuracy: 0.9688\n",
      "Epoch 41/100\n",
      "263/263 [==============================] - 1s 2ms/step - loss: 0.0261 - accuracy: 0.9939 - val_loss: 0.3521 - val_accuracy: 0.9663\n",
      "Epoch 42/100\n",
      "263/263 [==============================] - 1s 2ms/step - loss: 0.0406 - accuracy: 0.9912 - val_loss: 0.3342 - val_accuracy: 0.9680\n",
      "Epoch 43/100\n",
      "263/263 [==============================] - 1s 2ms/step - loss: 0.0358 - accuracy: 0.9925 - val_loss: 0.3694 - val_accuracy: 0.9638\n",
      "Epoch 44/100\n",
      "263/263 [==============================] - 1s 2ms/step - loss: 0.0330 - accuracy: 0.9932 - val_loss: 0.4294 - val_accuracy: 0.9620\n",
      "Epoch 45/100\n",
      "263/263 [==============================] - 1s 2ms/step - loss: 0.0428 - accuracy: 0.9919 - val_loss: 0.3565 - val_accuracy: 0.9664\n",
      "Epoch 46/100\n",
      "263/263 [==============================] - 1s 2ms/step - loss: 0.0364 - accuracy: 0.9928 - val_loss: 0.3407 - val_accuracy: 0.9667\n",
      "Epoch 47/100\n",
      "263/263 [==============================] - 1s 2ms/step - loss: 0.0304 - accuracy: 0.9938 - val_loss: 0.3469 - val_accuracy: 0.9701\n",
      "Epoch 48/100\n",
      "263/263 [==============================] - 1s 2ms/step - loss: 0.0334 - accuracy: 0.9936 - val_loss: 0.3342 - val_accuracy: 0.9680\n",
      "Epoch 49/100\n",
      "263/263 [==============================] - 1s 2ms/step - loss: 0.0446 - accuracy: 0.9921 - val_loss: 0.3421 - val_accuracy: 0.9674\n",
      "Epoch 50/100\n",
      "263/263 [==============================] - 1s 2ms/step - loss: 0.0268 - accuracy: 0.9944 - val_loss: 0.3483 - val_accuracy: 0.9692\n",
      "Epoch 51/100\n",
      "263/263 [==============================] - 1s 2ms/step - loss: 0.0213 - accuracy: 0.9949 - val_loss: 0.3821 - val_accuracy: 0.9686\n",
      "Epoch 52/100\n",
      "263/263 [==============================] - 1s 2ms/step - loss: 0.0243 - accuracy: 0.9949 - val_loss: 0.3920 - val_accuracy: 0.9715\n",
      "Epoch 53/100\n",
      "263/263 [==============================] - 1s 2ms/step - loss: 0.0333 - accuracy: 0.9936 - val_loss: 0.3817 - val_accuracy: 0.9671\n",
      "Epoch 54/100\n",
      "263/263 [==============================] - 1s 2ms/step - loss: 0.0285 - accuracy: 0.9942 - val_loss: 0.3962 - val_accuracy: 0.9686\n",
      "Epoch 55/100\n",
      "263/263 [==============================] - 1s 2ms/step - loss: 0.0405 - accuracy: 0.9926 - val_loss: 0.4891 - val_accuracy: 0.9656\n",
      "Epoch 56/100\n",
      "263/263 [==============================] - 1s 2ms/step - loss: 0.0277 - accuracy: 0.9942 - val_loss: 0.3724 - val_accuracy: 0.9702\n",
      "Epoch 57/100\n",
      "263/263 [==============================] - 1s 2ms/step - loss: 0.0222 - accuracy: 0.9952 - val_loss: 0.4031 - val_accuracy: 0.9706\n",
      "Epoch 58/100\n",
      "263/263 [==============================] - 1s 2ms/step - loss: 0.0255 - accuracy: 0.9957 - val_loss: 0.4714 - val_accuracy: 0.9656\n",
      "Epoch 59/100\n",
      "263/263 [==============================] - 1s 2ms/step - loss: 0.0280 - accuracy: 0.9950 - val_loss: 0.4192 - val_accuracy: 0.9688\n",
      "Epoch 60/100\n",
      "263/263 [==============================] - 1s 2ms/step - loss: 0.0309 - accuracy: 0.9940 - val_loss: 0.4495 - val_accuracy: 0.9686\n",
      "Epoch 61/100\n",
      "263/263 [==============================] - 1s 2ms/step - loss: 0.0351 - accuracy: 0.9943 - val_loss: 0.4542 - val_accuracy: 0.9696\n",
      "Epoch 62/100\n",
      "263/263 [==============================] - 1s 2ms/step - loss: 0.0300 - accuracy: 0.9945 - val_loss: 0.4642 - val_accuracy: 0.9668\n",
      "1313/1313 [==============================] - 1s 645us/step - loss: 0.1203 - accuracy: 0.9895\n",
      "[0.12032963335514069, 0.9895238280296326]\n"
     ]
    }
   ],
   "source": [
    "callbacks = [EarlyStopping(monitor='val_accuracy', patience=10)]\n",
    "history = model.fit(x_train, y_train,\n",
    "                    epochs=epochs,\n",
    "                    batch_size=batch_size,\n",
    "                    verbose=1,\n",
    "                    validation_split=0.2,\n",
    "                    callbacks=callbacks \n",
    "                )\n",
    "print(model.evaluate(x_train, y_train))\n"
   ]
  }
 ],
 "metadata": {
  "interpreter": {
   "hash": "4619bb150e81db234703ce0e4730614fca808fd13a1b5e8662a6a5966ba01c2d"
  },
  "kernelspec": {
   "display_name": "Python 3.9.9 64-bit (windows store)",
   "language": "python",
   "name": "python3"
  },
  "language_info": {
   "codemirror_mode": {
    "name": "ipython",
    "version": 3
   },
   "file_extension": ".py",
   "mimetype": "text/x-python",
   "name": "python",
   "nbconvert_exporter": "python",
   "pygments_lexer": "ipython3",
   "version": "3.9.9"
  },
  "orig_nbformat": 4
 },
 "nbformat": 4,
 "nbformat_minor": 2
}
