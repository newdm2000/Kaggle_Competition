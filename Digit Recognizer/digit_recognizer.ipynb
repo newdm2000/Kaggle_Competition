{
 "cells": [
  {
   "cell_type": "code",
   "execution_count": 65,
   "metadata": {},
   "outputs": [],
   "source": [
    "\n",
    "import pandas as pd\n",
    "import numpy as np\n",
    "import tensorflow as tf\n",
    "import matplotlib.pyplot as plt\n",
    "from PIL import Image\n",
    "from keras import layers, models, datasets, backend\n",
    "from keras.utils import np_utils\n",
    "from tensorflow.keras.models import Sequential\n",
    "from tensorflow.keras.layers import Dense, Conv2D, Flatten, Dropout, MaxPool2D\n",
    "from tensorflow.keras.preprocessing.image import ImageDataGenerator\n",
    "from tensorflow.keras.callbacks import ModelCheckpoint, EarlyStopping\n",
    "from tensorflow.keras.optimizers import SGD\n",
    "from sklearn.preprocessing import MinMaxScaler\n",
    "from sklearn.model_selection import train_test_split\n",
    "from sklearn.metrics import classification_report\n",
    "with tf.device(\"/gpu:0\"):\n",
    "    np.random.seed(3)\n",
    "    tf.random.set_seed(3)"
   ]
  },
  {
   "cell_type": "code",
   "execution_count": 66,
   "metadata": {},
   "outputs": [],
   "source": [
    "train = pd.read_csv('data/train.csv')\n",
    "test = pd.read_csv('data/test.csv')"
   ]
  },
  {
   "cell_type": "code",
   "execution_count": 67,
   "metadata": {},
   "outputs": [
    {
     "data": {
      "text/plain": [
       "'2.7.0'"
      ]
     },
     "execution_count": 67,
     "metadata": {},
     "output_type": "execute_result"
    }
   ],
   "source": [
    "tf.__version__"
   ]
  },
  {
   "cell_type": "code",
   "execution_count": 68,
   "metadata": {},
   "outputs": [],
   "source": [
    "x_train = train.drop('label', axis=1, inplace=False)\n",
    "y_train = train['label']"
   ]
  },
  {
   "cell_type": "code",
   "execution_count": 69,
   "metadata": {},
   "outputs": [],
   "source": [
    "x_train = x_train.values.reshape(-1, 28, 28, 1)\n",
    "y_train = y_train.values.reshape(-1, 1)"
   ]
  },
  {
   "cell_type": "code",
   "execution_count": 70,
   "metadata": {},
   "outputs": [],
   "source": [
    "x_test = test\n",
    "x_test = x_test.values.reshape(-1, 28, 28, 1)"
   ]
  },
  {
   "cell_type": "code",
   "execution_count": 71,
   "metadata": {},
   "outputs": [],
   "source": [
    "x_train, x_val, y_train, y_val = train_test_split(x_train, y_train, test_size=0.1)"
   ]
  },
  {
   "cell_type": "code",
   "execution_count": 72,
   "metadata": {},
   "outputs": [
    {
     "name": "stdout",
     "output_type": "stream",
     "text": [
      "[0]\n"
     ]
    },
    {
     "data": {
      "image/png": "[encoded data removed]",
      "text/plain": [
       "<Figure size 432x288 with 1 Axes>"
      ]
     },
     "metadata": {
      "needs_background": "light"
     },
     "output_type": "display_data"
    }
   ],
   "source": [
    "plt.imshow(x_train[5], cmap='Greys', interpolation='None')\n",
    "print(y_train[5])"
   ]
  },
  {
   "cell_type": "code",
   "execution_count": 73,
   "metadata": {},
   "outputs": [],
   "source": [
    "x_train = x_train.astype('float32')\n",
    "x_val = x_val.astype('float32')\n",
    "x_test = x_test.astype('float32')\n",
    "x_train /= 255.0\n",
    "x_val /= 255.0\n",
    "x_test /= 255.0\n"
   ]
  },
  {
   "cell_type": "code",
   "execution_count": 74,
   "metadata": {},
   "outputs": [],
   "source": [
    "y_train = np_utils.to_categorical(y_train)\n",
    "y_val = np_utils.to_categorical(y_val)\n"
   ]
  },
  {
   "cell_type": "code",
   "execution_count": 75,
   "metadata": {},
   "outputs": [
    {
     "data": {
      "text/plain": [
       "array([1., 0., 0., 0., 0., 0., 0., 0., 0., 0.], dtype=float32)"
      ]
     },
     "execution_count": 75,
     "metadata": {},
     "output_type": "execute_result"
    }
   ],
   "source": [
    "y_train[5]"
   ]
  },
  {
   "cell_type": "code",
   "execution_count": 76,
   "metadata": {},
   "outputs": [],
   "source": [
    "model = Sequential()\n",
    "model.add(Conv2D(filters=32, kernel_size=(5, 5), padding='same', activation='relu', input_shape=(28, 28, 1)))\n",
    "model.add(Conv2D(filters=64, kernel_size=(3, 3), padding='same', activation='relu', input_shape=(28, 28, 1)))\n",
    "model.add(MaxPool2D(pool_size=(2, 2), strides=2))\n",
    "model.add(Conv2D(filters=32, kernel_size=(5, 5), padding='same', activation='relu'))\n",
    "model.add(Conv2D(filters=64, kernel_size=(3, 3), padding='same', activation='relu'))\n",
    "model.add(MaxPool2D(pool_size=(2, 2), strides=2))\n",
    "model.add(Flatten())\n",
    "model.add(Dense(256, activation='relu'))\n",
    "model.add(Dropout(0.2))\n",
    "model.add(Dense(128, activation='relu'))\n",
    "model.add(Dropout(0.1))\n",
    "model.add(Dense(10, activation='softmax'))"
   ]
  },
  {
   "cell_type": "code",
   "execution_count": 77,
   "metadata": {},
   "outputs": [
    {
     "name": "stdout",
     "output_type": "stream",
     "text": [
      "Model: \"sequential_3\"\n",
      "_________________________________________________________________\n",
      " Layer (type)                Output Shape              Param #   \n",
      "=================================================================\n",
      " conv2d_12 (Conv2D)          (None, 28, 28, 32)        832       \n",
      "                                                                 \n",
      " conv2d_13 (Conv2D)          (None, 28, 28, 64)        18496     \n",
      "                                                                 \n",
      " max_pooling2d_6 (MaxPooling  (None, 14, 14, 64)       0         \n",
      " 2D)                                                             \n",
      "                                                                 \n",
      " conv2d_14 (Conv2D)          (None, 14, 14, 32)        51232     \n",
      "                                                                 \n",
      " conv2d_15 (Conv2D)          (None, 14, 14, 64)        18496     \n",
      "                                                                 \n",
      " max_pooling2d_7 (MaxPooling  (None, 7, 7, 64)         0         \n",
      " 2D)                                                             \n",
      "                                                                 \n",
      " flatten_3 (Flatten)         (None, 3136)              0         \n",
      "                                                                 \n",
      " dense_9 (Dense)             (None, 256)               803072    \n",
      "                                                                 \n",
      " dropout_6 (Dropout)         (None, 256)               0         \n",
      "                                                                 \n",
      " dense_10 (Dense)            (None, 128)               32896     \n",
      "                                                                 \n",
      " dropout_7 (Dropout)         (None, 128)               0         \n",
      "                                                                 \n",
      " dense_11 (Dense)            (None, 10)                1290      \n",
      "                                                                 \n",
      "=================================================================\n",
      "Total params: 926,314\n",
      "Trainable params: 926,314\n",
      "Non-trainable params: 0\n",
      "_________________________________________________________________\n"
     ]
    }
   ],
   "source": [
    "model.summary()"
   ]
  },
  {
   "cell_type": "code",
   "execution_count": 78,
   "metadata": {},
   "outputs": [],
   "source": [
    "batch_size = 100\n",
    "epochs = 100"
   ]
  },
  {
   "cell_type": "code",
   "execution_count": 79,
   "metadata": {},
   "outputs": [],
   "source": [
    "train_datagen = ImageDataGenerator(\n",
    "        rotation_range=20,\n",
    "        width_shift_range=0.1,\n",
    "        height_shift_range=0.1,\n",
    "        zoom_range=0.2,\n",
    ")"
   ]
  },
  {
   "cell_type": "code",
   "execution_count": 80,
   "metadata": {},
   "outputs": [],
   "source": [
    "model.compile(optimizer='adam',\n",
    "                   loss='categorical_crossentropy',\n",
    "                   metrics=['accuracy']\n",
    ")"
   ]
  },
  {
   "cell_type": "code",
   "execution_count": 81,
   "metadata": {},
   "outputs": [
    {
     "name": "stdout",
     "output_type": "stream",
     "text": [
      "Epoch 1/100\n",
      "100/100 [==============================] - 16s 158ms/step - loss: 0.9842 - accuracy: 0.6625 - val_loss: 0.1354 - val_accuracy: 0.9569\n",
      "Epoch 2/100\n",
      "100/100 [==============================] - 16s 155ms/step - loss: 0.2823 - accuracy: 0.9122 - val_loss: 0.1010 - val_accuracy: 0.9681\n",
      "Epoch 3/100\n",
      "100/100 [==============================] - 16s 158ms/step - loss: 0.2076 - accuracy: 0.9366 - val_loss: 0.0705 - val_accuracy: 0.9790\n",
      "Epoch 4/100\n",
      "100/100 [==============================] - 16s 156ms/step - loss: 0.1693 - accuracy: 0.9493 - val_loss: 0.0652 - val_accuracy: 0.9805\n",
      "Epoch 5/100\n",
      "100/100 [==============================] - 16s 156ms/step - loss: 0.1357 - accuracy: 0.9581 - val_loss: 0.0509 - val_accuracy: 0.9819\n",
      "Epoch 6/100\n",
      "100/100 [==============================] - 16s 156ms/step - loss: 0.1352 - accuracy: 0.9598 - val_loss: 0.0517 - val_accuracy: 0.9845\n",
      "Epoch 7/100\n",
      "100/100 [==============================] - 16s 156ms/step - loss: 0.1206 - accuracy: 0.9637 - val_loss: 0.0458 - val_accuracy: 0.9874\n",
      "Epoch 8/100\n",
      "100/100 [==============================] - 16s 155ms/step - loss: 0.1055 - accuracy: 0.9702 - val_loss: 0.0501 - val_accuracy: 0.9845\n",
      "Epoch 9/100\n",
      "100/100 [==============================] - 16s 156ms/step - loss: 0.0930 - accuracy: 0.9724 - val_loss: 0.0396 - val_accuracy: 0.9857\n",
      "Epoch 10/100\n",
      "100/100 [==============================] - 16s 155ms/step - loss: 0.0930 - accuracy: 0.9733 - val_loss: 0.0390 - val_accuracy: 0.9864\n",
      "Epoch 11/100\n",
      "100/100 [==============================] - 16s 156ms/step - loss: 0.0885 - accuracy: 0.9735 - val_loss: 0.0447 - val_accuracy: 0.9848\n",
      "Epoch 12/100\n",
      "100/100 [==============================] - 16s 156ms/step - loss: 0.0726 - accuracy: 0.9770 - val_loss: 0.0435 - val_accuracy: 0.9874\n",
      "Epoch 13/100\n",
      "100/100 [==============================] - 16s 156ms/step - loss: 0.0721 - accuracy: 0.9779 - val_loss: 0.0342 - val_accuracy: 0.9890\n",
      "Epoch 14/100\n",
      "100/100 [==============================] - 16s 155ms/step - loss: 0.0744 - accuracy: 0.9788 - val_loss: 0.0302 - val_accuracy: 0.9902\n",
      "Epoch 15/100\n",
      "100/100 [==============================] - 16s 156ms/step - loss: 0.0722 - accuracy: 0.9791 - val_loss: 0.0424 - val_accuracy: 0.9869\n",
      "Epoch 16/100\n",
      "100/100 [==============================] - 16s 156ms/step - loss: 0.0649 - accuracy: 0.9814 - val_loss: 0.0330 - val_accuracy: 0.9895\n",
      "Epoch 17/100\n",
      "100/100 [==============================] - 16s 156ms/step - loss: 0.0620 - accuracy: 0.9806 - val_loss: 0.0314 - val_accuracy: 0.9902\n",
      "Epoch 18/100\n",
      "100/100 [==============================] - 16s 156ms/step - loss: 0.0632 - accuracy: 0.9811 - val_loss: 0.0351 - val_accuracy: 0.9893\n",
      "Epoch 19/100\n",
      "100/100 [==============================] - 16s 156ms/step - loss: 0.0570 - accuracy: 0.9822 - val_loss: 0.0369 - val_accuracy: 0.9888\n",
      "Epoch 20/100\n",
      "100/100 [==============================] - 16s 156ms/step - loss: 0.0581 - accuracy: 0.9825 - val_loss: 0.0438 - val_accuracy: 0.9862\n",
      "Epoch 21/100\n",
      "100/100 [==============================] - 16s 160ms/step - loss: 0.0616 - accuracy: 0.9818 - val_loss: 0.0416 - val_accuracy: 0.9890\n",
      "Epoch 22/100\n",
      "100/100 [==============================] - 16s 156ms/step - loss: 0.0519 - accuracy: 0.9838 - val_loss: 0.0290 - val_accuracy: 0.9900\n",
      "Epoch 23/100\n",
      "100/100 [==============================] - 16s 156ms/step - loss: 0.0610 - accuracy: 0.9817 - val_loss: 0.0309 - val_accuracy: 0.9910\n",
      "Epoch 24/100\n",
      "100/100 [==============================] - 16s 156ms/step - loss: 0.0523 - accuracy: 0.9855 - val_loss: 0.0295 - val_accuracy: 0.9898\n",
      "Epoch 25/100\n",
      "100/100 [==============================] - 16s 156ms/step - loss: 0.0527 - accuracy: 0.9854 - val_loss: 0.0314 - val_accuracy: 0.9910\n",
      "Epoch 26/100\n",
      "100/100 [==============================] - 16s 158ms/step - loss: 0.0518 - accuracy: 0.9835 - val_loss: 0.0352 - val_accuracy: 0.9898\n",
      "Epoch 27/100\n",
      "100/100 [==============================] - 16s 155ms/step - loss: 0.0517 - accuracy: 0.9845 - val_loss: 0.0288 - val_accuracy: 0.9905\n"
     ]
    }
   ],
   "source": [
    "callbacks = [EarlyStopping(monitor='accuracy', patience=3)]\n",
    "history = model.fit(\n",
    "                train_datagen.flow(x_train, y_train, batch_size=batch_size),\n",
    "                steps_per_epoch=100,\n",
    "                epochs=epochs,\n",
    "                validation_data=(x_val, y_val),\n",
    "                verbose=1,\n",
    "                callbacks=callbacks\n",
    "                )"
   ]
  },
  {
   "cell_type": "code",
   "execution_count": 82,
   "metadata": {},
   "outputs": [
    {
     "data": {
      "image/png": "[encoded data removed]",
      "text/plain": [
       "<Figure size 1296x432 with 2 Axes>"
      ]
     },
     "metadata": {
      "needs_background": "light"
     },
     "output_type": "display_data"
    }
   ],
   "source": [
    "plt.figure(figsize=(18, 6))\n",
    "\n",
    "# 에포크별 정확도\n",
    "plt.subplot(1,2,1)\n",
    "plt.plot(history.history[\"accuracy\"], label=\"accuracy\")\n",
    "plt.plot(history.history[\"val_accuracy\"], label=\"val_accuracy\")\n",
    "plt.title(\"accuracy\")\n",
    "plt.legend()\n",
    "\n",
    "# 에포크별 손실률\n",
    "plt.subplot(1,2,2)\n",
    "plt.plot(history.history[\"loss\"], label=\"loss\")\n",
    "plt.plot(history.history[\"val_loss\"], label=\"val_loss\")\n",
    "plt.title(\"loss\")\n",
    "plt.legend()\n",
    "\n",
    "plt.show()"
   ]
  },
  {
   "cell_type": "code",
   "execution_count": 83,
   "metadata": {},
   "outputs": [],
   "source": [
    "result = model.predict(x_test)"
   ]
  },
  {
   "cell_type": "code",
   "execution_count": 84,
   "metadata": {},
   "outputs": [],
   "source": [
    "result = np.argmax(result,axis=1)"
   ]
  },
  {
   "cell_type": "code",
   "execution_count": 88,
   "metadata": {},
   "outputs": [
    {
     "data": {
      "text/plain": [
       "array([2, 0, 9, ..., 3, 9, 2], dtype=int64)"
      ]
     },
     "execution_count": 88,
     "metadata": {},
     "output_type": "execute_result"
    }
   ],
   "source": [
    "result"
   ]
  },
  {
   "cell_type": "code",
   "execution_count": 89,
   "metadata": {},
   "outputs": [],
   "source": [
    "submission = pd.read_csv('data/sample_submission.csv')\n",
    "submission['Label'] = result\n",
    "submission.to_csv('final_submission.csv', index=False)"
   ]
  }
 ],
 "metadata": {
  "interpreter": {
   "hash": "4619bb150e81db234703ce0e4730614fca808fd13a1b5e8662a6a5966ba01c2d"
  },
  "kernelspec": {
   "display_name": "Python 3.9.9 64-bit (windows store)",
   "language": "python",
   "name": "python3"
  },
  "language_info": {
   "codemirror_mode": {
    "name": "ipython",
    "version": 3
   },
   "file_extension": ".py",
   "mimetype": "text/x-python",
   "name": "python",
   "nbconvert_exporter": "python",
   "pygments_lexer": "ipython3",
   "version": "3.9.9"
  },
  "orig_nbformat": 4
 },
 "nbformat": 4,
 "nbformat_minor": 2
}
